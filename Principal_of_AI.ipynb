{
  "nbformat": 4,
  "nbformat_minor": 0,
  "metadata": {
    "colab": {
      "name": "Principal of AI.ipynb",
      "provenance": [],
      "collapsed_sections": [],
      "authorship_tag": "ABX9TyN1aTq2KhaekBR0CKwf7KN5",
      "include_colab_link": true
    },
    "kernelspec": {
      "name": "python3",
      "display_name": "Python 3"
    },
    "language_info": {
      "name": "python"
    }
  },
  "cells": [
    {
      "cell_type": "markdown",
      "metadata": {
        "id": "view-in-github",
        "colab_type": "text"
      },
      "source": [
        "<a href=\"https://colab.research.google.com/github/Hemandadish/BookMyShow-Web-Application/blob/main/Principal_of_AI.ipynb\" target=\"_parent\"><img src=\"https://colab.research.google.com/assets/colab-badge.svg\" alt=\"Open In Colab\"/></a>"
      ]
    },
    {
      "cell_type": "code",
      "execution_count": 1,
      "metadata": {
        "colab": {
          "base_uri": "https://localhost:8080/",
          "height": 1000
        },
        "id": "Z44-NstJT1ld",
        "outputId": "2c5eaf95-e7fc-483d-98bc-8510745edc5b"
      },
      "outputs": [
        {
          "output_type": "stream",
          "name": "stdout",
          "text": [
            "Looking in indexes: https://pypi.org/simple, https://us-python.pkg.dev/colab-wheels/public/simple/\n",
            "Requirement already satisfied: pip in /usr/local/lib/python3.7/dist-packages (21.1.3)\n",
            "Collecting install\n",
            "  Downloading install-1.3.5-py3-none-any.whl (3.2 kB)\n",
            "Collecting chatterbot==1.0.0\n",
            "  Downloading ChatterBot-1.0.0-py2.py3-none-any.whl (65 kB)\n",
            "\u001b[K     |████████████████████████████████| 65 kB 1.0 MB/s \n",
            "\u001b[?25hCollecting mathparse<0.2,>=0.1\n",
            "  Downloading mathparse-0.1.2-py3-none-any.whl (7.2 kB)\n",
            "Collecting python-dateutil<2.8,>=2.7\n",
            "  Downloading python_dateutil-2.7.5-py2.py3-none-any.whl (225 kB)\n",
            "\u001b[K     |████████████████████████████████| 225 kB 11.8 MB/s \n",
            "\u001b[?25hRequirement already satisfied: nltk<4.0,>=3.2 in /usr/local/lib/python3.7/dist-packages (from chatterbot==1.0.0) (3.2.5)\n",
            "Collecting sqlalchemy<1.3,>=1.2\n",
            "  Downloading SQLAlchemy-1.2.19.tar.gz (5.7 MB)\n",
            "\u001b[K     |████████████████████████████████| 5.7 MB 33.3 MB/s \n",
            "\u001b[?25hCollecting chatterbot-corpus<1.3,>=1.2\n",
            "  Downloading chatterbot_corpus-1.2.0-py2.py3-none-any.whl (117 kB)\n",
            "\u001b[K     |████████████████████████████████| 117 kB 56.1 MB/s \n",
            "\u001b[?25hCollecting pint>=0.8.1\n",
            "  Downloading Pint-0.18-py2.py3-none-any.whl (209 kB)\n",
            "\u001b[K     |████████████████████████████████| 209 kB 56.7 MB/s \n",
            "\u001b[?25hCollecting pymongo<4.0,>=3.3\n",
            "  Downloading pymongo-3.12.3-cp37-cp37m-manylinux_2_17_x86_64.manylinux2014_x86_64.whl (508 kB)\n",
            "\u001b[K     |████████████████████████████████| 508 kB 51.6 MB/s \n",
            "\u001b[?25hRequirement already satisfied: PyYAML<4.0,>=3.12 in /usr/local/lib/python3.7/dist-packages (from chatterbot-corpus<1.3,>=1.2->chatterbot==1.0.0) (3.13)\n",
            "Requirement already satisfied: six in /usr/local/lib/python3.7/dist-packages (from nltk<4.0,>=3.2->chatterbot==1.0.0) (1.15.0)\n",
            "Requirement already satisfied: packaging in /usr/local/lib/python3.7/dist-packages (from pint>=0.8.1->chatterbot==1.0.0) (21.3)\n",
            "Requirement already satisfied: importlib-metadata in /usr/local/lib/python3.7/dist-packages (from pint>=0.8.1->chatterbot==1.0.0) (4.11.4)\n",
            "Requirement already satisfied: typing-extensions>=3.6.4 in /usr/local/lib/python3.7/dist-packages (from importlib-metadata->pint>=0.8.1->chatterbot==1.0.0) (4.2.0)\n",
            "Requirement already satisfied: zipp>=0.5 in /usr/local/lib/python3.7/dist-packages (from importlib-metadata->pint>=0.8.1->chatterbot==1.0.0) (3.8.0)\n",
            "Requirement already satisfied: pyparsing!=3.0.5,>=2.0.2 in /usr/local/lib/python3.7/dist-packages (from packaging->pint>=0.8.1->chatterbot==1.0.0) (3.0.9)\n",
            "Building wheels for collected packages: sqlalchemy\n",
            "  Building wheel for sqlalchemy (setup.py) ... \u001b[?25l\u001b[?25hdone\n",
            "  Created wheel for sqlalchemy: filename=SQLAlchemy-1.2.19-cp37-cp37m-linux_x86_64.whl size=1154153 sha256=a87bfb2b52229e75db9bf3773815df407f7e1938297c4bd19c84fd6364c34c25\n",
            "  Stored in directory: /root/.cache/pip/wheels/26/f5/25/6f2227c446ba93eef8dc8544d76a51a67a10c66066ec216d5d\n",
            "Successfully built sqlalchemy\n",
            "Installing collected packages: sqlalchemy, python-dateutil, pymongo, pint, mathparse, chatterbot-corpus, install, chatterbot\n",
            "  Attempting uninstall: sqlalchemy\n",
            "    Found existing installation: SQLAlchemy 1.4.36\n",
            "    Uninstalling SQLAlchemy-1.4.36:\n",
            "      Successfully uninstalled SQLAlchemy-1.4.36\n",
            "  Attempting uninstall: python-dateutil\n",
            "    Found existing installation: python-dateutil 2.8.2\n",
            "    Uninstalling python-dateutil-2.8.2:\n",
            "      Successfully uninstalled python-dateutil-2.8.2\n",
            "  Attempting uninstall: pymongo\n",
            "    Found existing installation: pymongo 4.1.1\n",
            "    Uninstalling pymongo-4.1.1:\n",
            "      Successfully uninstalled pymongo-4.1.1\n",
            "\u001b[31mERROR: pip's dependency resolver does not currently take into account all the packages that are installed. This behaviour is the source of the following dependency conflicts.\n",
            "fbprophet 0.7.1 requires python-dateutil>=2.8.0, but you have python-dateutil 2.7.5 which is incompatible.\n",
            "albumentations 0.1.12 requires imgaug<0.2.7,>=0.2.5, but you have imgaug 0.2.9 which is incompatible.\u001b[0m\n",
            "Successfully installed chatterbot-1.0.0 chatterbot-corpus-1.2.0 install-1.3.5 mathparse-0.1.2 pint-0.18 pymongo-3.12.3 python-dateutil-2.7.5 sqlalchemy-1.2.19\n"
          ]
        },
        {
          "output_type": "display_data",
          "data": {
            "application/vnd.colab-display-data+json": {
              "pip_warning": {
                "packages": [
                  "dateutil"
                ]
              }
            }
          },
          "metadata": {}
        }
      ],
      "source": [
        "!pip install pip install chatterbot==1.0.0"
      ]
    },
    {
      "cell_type": "code",
      "source": [
        "\n",
        "!pip install chatterbot_corpus"
      ],
      "metadata": {
        "colab": {
          "base_uri": "https://localhost:8080/"
        },
        "id": "_Nxr2vqYUG0C",
        "outputId": "df8146e4-4f2a-49df-a3ce-570e6574427a"
      },
      "execution_count": 2,
      "outputs": [
        {
          "output_type": "stream",
          "name": "stdout",
          "text": [
            "Looking in indexes: https://pypi.org/simple, https://us-python.pkg.dev/colab-wheels/public/simple/\n",
            "Requirement already satisfied: chatterbot_corpus in /usr/local/lib/python3.7/dist-packages (1.2.0)\n",
            "Requirement already satisfied: PyYAML<4.0,>=3.12 in /usr/local/lib/python3.7/dist-packages (from chatterbot_corpus) (3.13)\n"
          ]
        }
      ]
    },
    {
      "cell_type": "code",
      "source": [
        "# Create object of ChatBot class\n",
        "from chatterbot import ChatBot\n",
        "bot = ChatBot('Buddy')\n",
        "\n",
        "bot = ChatBot(\n",
        "    'Buddy',\n",
        "    storage_adapter='chatterbot.storage.SQLStorageAdapter',\n",
        "    database_uri='sqlite:///database.sqlite3'\n",
        ")"
      ],
      "metadata": {
        "colab": {
          "base_uri": "https://localhost:8080/"
        },
        "id": "BeOyKuARUWh-",
        "outputId": "b68db5c9-aff7-4393-b9a4-e7659c3507b8"
      },
      "execution_count": 3,
      "outputs": [
        {
          "output_type": "stream",
          "name": "stdout",
          "text": [
            "[nltk_data] Downloading package averaged_perceptron_tagger to\n",
            "[nltk_data]     /root/nltk_data...\n",
            "[nltk_data]   Unzipping taggers/averaged_perceptron_tagger.zip.\n",
            "[nltk_data] Downloading package punkt to /root/nltk_data...\n",
            "[nltk_data]   Unzipping tokenizers/punkt.zip.\n",
            "[nltk_data] Downloading package stopwords to /root/nltk_data...\n",
            "[nltk_data]   Unzipping corpora/stopwords.zip.\n",
            "[nltk_data] Downloading package wordnet to /root/nltk_data...\n",
            "[nltk_data]   Unzipping corpora/wordnet.zip.\n",
            "[nltk_data] Downloading package averaged_perceptron_tagger to\n",
            "[nltk_data]     /root/nltk_data...\n",
            "[nltk_data]   Package averaged_perceptron_tagger is already up-to-\n",
            "[nltk_data]       date!\n",
            "[nltk_data] Downloading package punkt to /root/nltk_data...\n",
            "[nltk_data]   Package punkt is already up-to-date!\n",
            "[nltk_data] Downloading package stopwords to /root/nltk_data...\n",
            "[nltk_data]   Package stopwords is already up-to-date!\n"
          ]
        }
      ]
    },
    {
      "cell_type": "code",
      "source": [
        "# Create object of ChatBot class with Logic Adapter\n",
        "bot = ChatBot(\n",
        "    'Buddy',  \n",
        "    logic_adapters=[\n",
        "        'chatterbot.logic.BestMatch',\n",
        "        'chatterbot.logic.TimeLogicAdapter'],\n",
        ")"
      ],
      "metadata": {
        "colab": {
          "base_uri": "https://localhost:8080/"
        },
        "id": "ANtF4ei_Uej5",
        "outputId": "96d052c3-0659-49f9-d37e-c9a82ffd4992"
      },
      "execution_count": 4,
      "outputs": [
        {
          "output_type": "stream",
          "name": "stdout",
          "text": [
            "[nltk_data] Downloading package averaged_perceptron_tagger to\n",
            "[nltk_data]     /root/nltk_data...\n",
            "[nltk_data]   Package averaged_perceptron_tagger is already up-to-\n",
            "[nltk_data]       date!\n",
            "[nltk_data] Downloading package punkt to /root/nltk_data...\n",
            "[nltk_data]   Package punkt is already up-to-date!\n",
            "[nltk_data] Downloading package stopwords to /root/nltk_data...\n",
            "[nltk_data]   Package stopwords is already up-to-date!\n"
          ]
        }
      ]
    },
    {
      "cell_type": "code",
      "source": [
        "from chatterbot.trainers import ListTrainer\n",
        "\n",
        "trainer = ListTrainer(bot)\n",
        "trainer.train([\n",
        "    'Hi',\n",
        "    'Hello',\n",
        "    'How are you',\n",
        "    'I am fine',\n",
        "    'I need your assistance regarding my order',\n",
        "    'Please, Provide me with your order id',\n",
        "    'I have a complaint.',\n",
        "    'Please elaborate, your concern',\n",
        "    'How long it will take to receive an order ?',\n",
        "    'An order takes 3-5 Business days to get delivered.',\n",
        "    'Okay Thanks',\n",
        "    'No Problem! Have a Good Day!',\n",
        "    \"My name is IT\",\n",
        "    \"Dankeschön\"\n",
        "])"
      ],
      "metadata": {
        "colab": {
          "base_uri": "https://localhost:8080/"
        },
        "id": "kXa1rhKRUj-j",
        "outputId": "29fba04c-d8e1-4362-de07-7c182b69d351"
      },
      "execution_count": 5,
      "outputs": [
        {
          "output_type": "stream",
          "name": "stdout",
          "text": [
            "List Trainer: [####################] 100%\n"
          ]
        }
      ]
    },
    {
      "cell_type": "code",
      "source": [
        "response = bot.get_response(\"I have a complaint.\")\n",
        "\n",
        "print(\"Bot Response:\", response)"
      ],
      "metadata": {
        "colab": {
          "base_uri": "https://localhost:8080/"
        },
        "id": "tnhqNlEQUryh",
        "outputId": "23eeb73e-d217-42b8-cd00-e1ef5295ab46"
      },
      "execution_count": 6,
      "outputs": [
        {
          "output_type": "stream",
          "name": "stderr",
          "text": [
            "No value for search_text was available on the provided input\n"
          ]
        },
        {
          "output_type": "stream",
          "name": "stdout",
          "text": [
            "Bot Response: Please elaborate, your concern\n"
          ]
        }
      ]
    },
    {
      "cell_type": "code",
      "source": [
        "name=input(\"Enter your Name: \")\n",
        "print(\"Welcome to the Bot Service! Let me know how can I help you?\")\n",
        "while True:\n",
        "    request=input(name+\":\")\n",
        "    if request == \"Bye\" or request == \"bye\":\n",
        "        print(\"Bot: Bye\")\n",
        "        break\n",
        "    else:\n",
        "        response=bot.get_response(request)\n",
        "        print(\"Bot:\", response)"
      ],
      "metadata": {
        "colab": {
          "base_uri": "https://localhost:8080/"
        },
        "id": "MPTv9QxfU6Sw",
        "outputId": "fe44906d-c9a4-4fda-e085-6311d9c822b2"
      },
      "execution_count": 7,
      "outputs": [
        {
          "name": "stdout",
          "output_type": "stream",
          "text": [
            "Enter your Name: hemand\n",
            "Welcome to the Bot Service! Let me know how can I help you?\n",
            "hemand:hi\n"
          ]
        },
        {
          "output_type": "stream",
          "name": "stderr",
          "text": [
            "No value for search_text was available on the provided input\n"
          ]
        },
        {
          "name": "stdout",
          "output_type": "stream",
          "text": [
            "Bot: Hello\n",
            "hemand:how are you\n"
          ]
        },
        {
          "output_type": "stream",
          "name": "stderr",
          "text": [
            "No value for search_text was available on the provided input\n"
          ]
        },
        {
          "output_type": "stream",
          "name": "stdout",
          "text": [
            "Bot: I am fine\n",
            "hemand:bye\n",
            "Bot: Bye\n"
          ]
        }
      ]
    }
  ]
}